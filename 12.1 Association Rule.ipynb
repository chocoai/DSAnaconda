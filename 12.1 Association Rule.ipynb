{
 "cells": [
  {
   "cell_type": "code",
   "execution_count": 1,
   "metadata": {},
   "outputs": [
    {
     "name": "stdout",
     "output_type": "stream",
     "text": [
      "Collecting apyori\n",
      "  Downloading https://files.pythonhosted.org/packages/25/fd/0561e2dd29aeed544bad2d1991636e38700cdaef9530490b863741f35295/apyori-1.1.1.tar.gz\n",
      "Building wheels for collected packages: apyori\n",
      "  Running setup.py bdist_wheel for apyori: started\n",
      "  Running setup.py bdist_wheel for apyori: finished with status 'done'\n",
      "  Stored in directory: C:\\Users\\Administrator.HRR13O9FQFSDLIT\\AppData\\Local\\pip\\Cache\\wheels\\7b\\2a\\35\\c0c3749c1a36d4f454ea22d8396e1b854b86340d63cbbb7949\n",
      "Successfully built apyori\n",
      "Installing collected packages: apyori\n",
      "Successfully installed apyori-1.1.1\n"
     ]
    }
   ],
   "source": [
    "! pip install apyori"
   ]
  },
  {
   "cell_type": "code",
   "execution_count": 2,
   "metadata": {},
   "outputs": [
    {
     "data": {
      "text/html": [
       "<div>\n",
       "<style scoped>\n",
       "    .dataframe tbody tr th:only-of-type {\n",
       "        vertical-align: middle;\n",
       "    }\n",
       "\n",
       "    .dataframe tbody tr th {\n",
       "        vertical-align: top;\n",
       "    }\n",
       "\n",
       "    .dataframe thead th {\n",
       "        text-align: right;\n",
       "    }\n",
       "</style>\n",
       "<table border=\"1\" class=\"dataframe\">\n",
       "  <thead>\n",
       "    <tr style=\"text-align: right;\">\n",
       "      <th></th>\n",
       "      <th>movieId</th>\n",
       "      <th>title</th>\n",
       "      <th>genres</th>\n",
       "    </tr>\n",
       "  </thead>\n",
       "  <tbody>\n",
       "    <tr>\n",
       "      <th>0</th>\n",
       "      <td>1</td>\n",
       "      <td>Toy Story (1995)</td>\n",
       "      <td>Adventure|Animation|Children|Comedy|Fantasy</td>\n",
       "    </tr>\n",
       "    <tr>\n",
       "      <th>1</th>\n",
       "      <td>2</td>\n",
       "      <td>Jumanji (1995)</td>\n",
       "      <td>Adventure|Children|Fantasy</td>\n",
       "    </tr>\n",
       "    <tr>\n",
       "      <th>2</th>\n",
       "      <td>3</td>\n",
       "      <td>Grumpier Old Men (1995)</td>\n",
       "      <td>Comedy|Romance</td>\n",
       "    </tr>\n",
       "    <tr>\n",
       "      <th>3</th>\n",
       "      <td>4</td>\n",
       "      <td>Waiting to Exhale (1995)</td>\n",
       "      <td>Comedy|Drama|Romance</td>\n",
       "    </tr>\n",
       "    <tr>\n",
       "      <th>4</th>\n",
       "      <td>5</td>\n",
       "      <td>Father of the Bride Part II (1995)</td>\n",
       "      <td>Comedy</td>\n",
       "    </tr>\n",
       "  </tbody>\n",
       "</table>\n",
       "</div>"
      ],
      "text/plain": [
       "   movieId                               title  \\\n",
       "0        1                    Toy Story (1995)   \n",
       "1        2                      Jumanji (1995)   \n",
       "2        3             Grumpier Old Men (1995)   \n",
       "3        4            Waiting to Exhale (1995)   \n",
       "4        5  Father of the Bride Part II (1995)   \n",
       "\n",
       "                                        genres  \n",
       "0  Adventure|Animation|Children|Comedy|Fantasy  \n",
       "1                   Adventure|Children|Fantasy  \n",
       "2                               Comedy|Romance  \n",
       "3                         Comedy|Drama|Romance  \n",
       "4                                       Comedy  "
      ]
     },
     "execution_count": 2,
     "metadata": {},
     "output_type": "execute_result"
    }
   ],
   "source": [
    "import pandas\n",
    "movie = pandas.read_csv('Data/movies.csv')\n",
    "movie.head()"
   ]
  },
  {
   "cell_type": "code",
   "execution_count": 3,
   "metadata": {},
   "outputs": [],
   "source": [
    "movie_dic = {}\n",
    "for rec in movie.iterrows():\n",
    "    movie_dic[rec[1].movieId] = rec[1].title"
   ]
  },
  {
   "cell_type": "code",
   "execution_count": 4,
   "metadata": {},
   "outputs": [
    {
     "data": {
      "text/plain": [
       "'Toy Story (1995)'"
      ]
     },
     "execution_count": 4,
     "metadata": {},
     "output_type": "execute_result"
    }
   ],
   "source": [
    "movie_dic.get(1)"
   ]
  },
  {
   "cell_type": "code",
   "execution_count": 6,
   "metadata": {},
   "outputs": [
    {
     "name": "stdout",
     "output_type": "stream",
     "text": [
      "<class 'pandas.core.frame.DataFrame'>\n",
      "RangeIndex: 100004 entries, 0 to 100003\n",
      "Data columns (total 4 columns):\n",
      "userId       100004 non-null int64\n",
      "movieId      100004 non-null int64\n",
      "rating       100004 non-null float64\n",
      "timestamp    100004 non-null int64\n",
      "dtypes: float64(1), int64(3)\n",
      "memory usage: 3.1 MB\n"
     ]
    }
   ],
   "source": [
    "import pandas\n",
    "import datetime\n",
    "df = pandas.read_csv('Data/ratings.csv')\n",
    "df.info()"
   ]
  },
  {
   "cell_type": "code",
   "execution_count": 7,
   "metadata": {},
   "outputs": [],
   "source": [
    "df = df[df['timestamp'] >= 1325376000]"
   ]
  },
  {
   "cell_type": "code",
   "execution_count": 8,
   "metadata": {},
   "outputs": [
    {
     "name": "stdout",
     "output_type": "stream",
     "text": [
      "<class 'pandas.core.frame.DataFrame'>\n",
      "Int64Index: 20877 entries, 790 to 99258\n",
      "Data columns (total 4 columns):\n",
      "userId       20877 non-null int64\n",
      "movieId      20877 non-null int64\n",
      "rating       20877 non-null float64\n",
      "timestamp    20877 non-null int64\n",
      "dtypes: float64(1), int64(3)\n",
      "memory usage: 815.5 KB\n"
     ]
    }
   ],
   "source": [
    "df.info()"
   ]
  },
  {
   "cell_type": "code",
   "execution_count": 12,
   "metadata": {
    "scrolled": true
   },
   "outputs": [
    {
     "data": {
      "text/plain": [
       "userId\n",
       "11     [50, 70, 126, 169, 296, 778, 785, 923, 1027, 1...\n",
       "13     [1, 47, 110, 277, 296, 318, 356, 362, 480, 524...\n",
       "15     [216, 367, 371, 372, 429, 520, 556, 913, 1047,...\n",
       "26     [1, 32, 47, 50, 63, 69, 153, 165, 260, 296, 31...\n",
       "38     [16, 47, 110, 293, 296, 306, 318, 356, 364, 36...\n",
       "40     [50, 260, 1136, 1196, 1197, 1198, 2959, 4226, ...\n",
       "42     [110, 165, 260, 296, 318, 349, 356, 380, 457, ...\n",
       "46     [73, 355, 724, 1270, 1359, 1515, 1707, 1965, 2...\n",
       "48     [111, 296, 501, 562, 741, 784, 858, 924, 1240,...\n",
       "54     [318, 1027, 1088, 1201, 1203, 1333, 1680, 2150...\n",
       "56     [1, 10, 16, 21, 29, 39, 47, 50, 101, 104, 111,...\n",
       "62     [111, 260, 318, 1196, 1210, 1270, 2028, 2918, ...\n",
       "68                                         [8636, 31658]\n",
       "69     [1, 2, 5, 19, 34, 39, 48, 104, 158, 231, 262, ...\n",
       "72     [1, 2, 47, 50, 110, 150, 260, 296, 318, 356, 4...\n",
       "73     [6, 25, 32, 36, 60, 98, 112, 177, 198, 215, 22...\n",
       "78     [16, 34, 47, 150, 193, 345, 508, 540, 788, 858...\n",
       "84     [1, 110, 260, 296, 356, 589, 1036, 1196, 1198,...\n",
       "91     [1, 12, 19, 23, 34, 104, 110, 216, 231, 260, 2...\n",
       "97     [1, 32, 50, 110, 223, 293, 296, 318, 356, 364,...\n",
       "98     [5, 39, 296, 339, 356, 357, 597, 724, 902, 920...\n",
       "104    [110, 150, 260, 293, 296, 318, 589, 733, 1036,...\n",
       "107    [293, 296, 527, 2605, 2701, 2805, 2959, 3005, ...\n",
       "133    [47, 110, 111, 215, 247, 296, 318, 356, 551, 5...\n",
       "134    [1, 2, 5, 10, 16, 19, 29, 32, 36, 39, 47, 110,...\n",
       "136    [1, 104, 260, 318, 364, 500, 586, 588, 595, 78...\n",
       "138    [1, 50, 260, 296, 318, 356, 480, 527, 780, 858...\n",
       "140    [5, 60, 216, 256, 267, 318, 342, 356, 364, 552...\n",
       "147    [50, 111, 207, 296, 381, 527, 608, 778, 934, 1...\n",
       "149    [1, 39, 47, 50, 104, 231, 253, 260, 293, 296, ...\n",
       "                             ...                        \n",
       "566    [318, 1792, 2296, 3177, 4255, 6156, 6541, 6754...\n",
       "567    [50, 260, 318, 356, 589, 593, 750, 858, 924, 1...\n",
       "570    [1, 36, 104, 110, 150, 165, 260, 296, 356, 457...\n",
       "571    [18, 32, 88, 150, 413, 546, 1208, 1347, 1517, ...\n",
       "572    [50, 145, 163, 296, 318, 337, 356, 381, 527, 5...\n",
       "578    [17, 50, 318, 356, 381, 527, 593, 858, 1028, 1...\n",
       "579    [65, 88, 1013, 1687, 1892, 2082, 2139, 2141, 2...\n",
       "583    [296, 318, 858, 1198, 1213, 1221, 1704, 2329, ...\n",
       "599    [39, 150, 260, 356, 551, 745, 923, 1028, 1136,...\n",
       "600    [588, 2081, 2085, 2096, 4886, 4995, 5618, 6377...\n",
       "606    [175, 235, 296, 441, 593, 661, 778, 858, 904, ...\n",
       "610    [538, 1556, 1590, 1653, 1894, 2717, 2761, 2881...\n",
       "611    [260, 356, 588, 1721, 1722, 1882, 2167, 2294, ...\n",
       "612    [223, 349, 362, 364, 551, 673, 1097, 1136, 119...\n",
       "615    [1, 6, 32, 47, 60, 260, 293, 296, 344, 356, 36...\n",
       "620    [50, 260, 296, 901, 902, 912, 914, 915, 916, 9...\n",
       "622    [260, 318, 593, 1196, 1198, 1234, 1291, 1704, ...\n",
       "624    [923, 1884, 3284, 4262, 6760, 6936, 7258, 7373...\n",
       "625    [337, 509, 527, 1197, 1544, 1682, 1721, 1873, ...\n",
       "628    [16, 29, 32, 58, 110, 236, 293, 342, 356, 555,...\n",
       "630    [1, 356, 593, 858, 904, 908, 912, 916, 1207, 1...\n",
       "635    [50, 111, 296, 318, 527, 593, 608, 903, 1089, ...\n",
       "637            [32, 50, 318, 750, 858, 1203, 1221, 3421]\n",
       "643    [50, 204, 260, 318, 858, 1196, 1221, 1385, 168...\n",
       "648    [3267, 6711, 63808, 71156, 77810, 87485, 92004...\n",
       "652    [22, 71, 94, 125, 140, 179, 185, 194, 223, 293...\n",
       "655    [2, 18, 32, 50, 163, 253, 260, 296, 316, 353, ...\n",
       "660    [1, 32, 260, 356, 480, 593, 1196, 1198, 1210, ...\n",
       "663    [1, 356, 480, 593, 1270, 2571, 111781, 117529,...\n",
       "664    [1, 6, 16, 22, 29, 32, 47, 50, 70, 110, 111, 1...\n",
       "Name: movieId, Length: 155, dtype: object"
      ]
     },
     "execution_count": 12,
     "metadata": {},
     "output_type": "execute_result"
    }
   ],
   "source": [
    "# df.head()\n",
    "df.groupby('userId')['movieId'].apply(list)"
   ]
  },
  {
   "cell_type": "code",
   "execution_count": 13,
   "metadata": {},
   "outputs": [],
   "source": [
    "from apyori import apriori\n",
    "transactions = [ele for ele in df.groupby('userId')['movieId'].apply(list)]\n",
    "rules = apriori(transactions,min_support = 0.2,min_lift = 3,min_length = 2)\n",
    "results = list(rules)"
   ]
  },
  {
   "cell_type": "code",
   "execution_count": 21,
   "metadata": {},
   "outputs": [
    {
     "name": "stdout",
     "output_type": "stream",
     "text": [
      "Kill Bill: Vol. 1 (2003)=>Kill Bill: Vol. 2 (2004)\n",
      "Star Wars: Episode V - The Empire Strikes Back (1980);Matrix, The (1999);Star Wars: Episode IV - A New Hope (1977);Raiders of the Lost Ark (Indiana Jones and the Raiders of the Lost Ark) (1981)=>Star Wars: Episode VI - Return of the Jedi (1983)\n",
      "Lord of the Rings: The Two Towers, The (2002);Star Wars: Episode V - The Empire Strikes Back (1980);Matrix, The (1999);Star Wars: Episode IV - A New Hope (1977)=>Star Wars: Episode VI - Return of the Jedi (1983)\n"
     ]
    }
   ],
   "source": [
    "for rec in results:\n",
    "    left_hands = rec.ordered_statistics[0].items_base\n",
    "    right_hands = rec.ordered_statistics[0].items_add\n",
    "    l = ';'.join([movie_dic.get(item) for item in left_hands])\n",
    "    r = ';'.join([movie_dic.get(item) for item in right_hands])\n",
    "    print('{}=>{}'.format(l,r))\n",
    "#     print(rec.ordered_statistics[0].items_base,rec.ordered_statistics[0].items_add)\n",
    "#     print([movie_dic.get(item) for item in rec.items])"
   ]
  },
  {
   "cell_type": "code",
   "execution_count": null,
   "metadata": {},
   "outputs": [],
   "source": []
  }
 ],
 "metadata": {
  "kernelspec": {
   "display_name": "Python 3",
   "language": "python",
   "name": "python3"
  },
  "language_info": {
   "codemirror_mode": {
    "name": "ipython",
    "version": 3
   },
   "file_extension": ".py",
   "mimetype": "text/x-python",
   "name": "python",
   "nbconvert_exporter": "python",
   "pygments_lexer": "ipython3",
   "version": "3.6.5"
  }
 },
 "nbformat": 4,
 "nbformat_minor": 2
}
