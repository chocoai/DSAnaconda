{
 "cells": [
  {
   "cell_type": "code",
   "execution_count": 1,
   "metadata": {},
   "outputs": [
    {
     "name": "stdout",
     "output_type": "stream",
     "text": [
      "Collecting pandas_datareader\n",
      "  Downloading https://files.pythonhosted.org/packages/be/76/639c60ede26458dadf76bacaa9cbcc76f8cc5082fb2b2d90d0a90c699d36/pandas_datareader-0.6.0-py2.py3-none-any.whl (103kB)\n",
      "Requirement already satisfied: lxml in d:\\anaconda3.6.5fille\\lib\\site-packages (from pandas_datareader) (4.2.1)\n",
      "Collecting requests-file (from pandas_datareader)\n",
      "  Downloading https://files.pythonhosted.org/packages/23/9c/6e63c23c39e53d3df41c77a3d05a49a42c4e1383a6d2a5e3233161b89dbf/requests_file-1.4.3-py2.py3-none-any.whl\n",
      "Requirement already satisfied: pandas>=0.19.2 in d:\\anaconda3.6.5fille\\lib\\site-packages (from pandas_datareader) (0.23.0)\n",
      "Collecting requests-ftp (from pandas_datareader)\n",
      "  Downloading https://files.pythonhosted.org/packages/3d/ca/14b2ad1e93b5195eeaf56b86b7ecfd5ea2d5754a68d17aeb1e5b9f95b3cf/requests-ftp-0.3.1.tar.gz\n",
      "Requirement already satisfied: requests>=2.3.0 in d:\\anaconda3.6.5fille\\lib\\site-packages (from pandas_datareader) (2.18.4)\n",
      "Requirement already satisfied: wrapt in d:\\anaconda3.6.5fille\\lib\\site-packages (from pandas_datareader) (1.10.11)\n",
      "Requirement already satisfied: six in d:\\anaconda3.6.5fille\\lib\\site-packages (from requests-file->pandas_datareader) (1.11.0)\n",
      "Requirement already satisfied: pytz>=2011k in d:\\anaconda3.6.5fille\\lib\\site-packages (from pandas>=0.19.2->pandas_datareader) (2018.4)\n",
      "Requirement already satisfied: python-dateutil>=2.5.0 in d:\\anaconda3.6.5fille\\lib\\site-packages (from pandas>=0.19.2->pandas_datareader) (2.7.3)\n",
      "Requirement already satisfied: numpy>=1.9.0 in d:\\anaconda3.6.5fille\\lib\\site-packages (from pandas>=0.19.2->pandas_datareader) (1.14.3)\n",
      "Requirement already satisfied: chardet<3.1.0,>=3.0.2 in d:\\anaconda3.6.5fille\\lib\\site-packages (from requests>=2.3.0->pandas_datareader) (3.0.4)\n",
      "Requirement already satisfied: idna<2.7,>=2.5 in d:\\anaconda3.6.5fille\\lib\\site-packages (from requests>=2.3.0->pandas_datareader) (2.6)\n",
      "Requirement already satisfied: urllib3<1.23,>=1.21.1 in d:\\anaconda3.6.5fille\\lib\\site-packages (from requests>=2.3.0->pandas_datareader) (1.22)\n",
      "Requirement already satisfied: certifi>=2017.4.17 in d:\\anaconda3.6.5fille\\lib\\site-packages (from requests>=2.3.0->pandas_datareader) (2018.4.16)\n",
      "Building wheels for collected packages: requests-ftp\n",
      "  Running setup.py bdist_wheel for requests-ftp: started\n",
      "  Running setup.py bdist_wheel for requests-ftp: finished with status 'done'\n",
      "  Stored in directory: C:\\Users\\Administrator.HRR13O9FQFSDLIT\\AppData\\Local\\pip\\Cache\\wheels\\2a\\98\\32\\37195e45a3392a73d9f65c488cbea30fe5bad76aaef4d6b020\n",
      "Successfully built requests-ftp\n",
      "Installing collected packages: requests-file, requests-ftp, pandas-datareader\n",
      "Successfully installed pandas-datareader-0.6.0 requests-file-1.4.3 requests-ftp-0.3.1\n"
     ]
    }
   ],
   "source": [
    "! pip  install pandas_datareader"
   ]
  },
  {
   "cell_type": "code",
   "execution_count": 12,
   "metadata": {},
   "outputs": [],
   "source": [
    "import pandas_datareader\n"
   ]
  },
  {
   "cell_type": "code",
   "execution_count": null,
   "metadata": {},
   "outputs": [],
   "source": [
    "df = pandas_datareader.DataReader('BABA',data_source = 'google')\n"
   ]
  },
  {
   "cell_type": "code",
   "execution_count": null,
   "metadata": {},
   "outputs": [],
   "source": [
    "df.tail()"
   ]
  },
  {
   "cell_type": "code",
   "execution_count": null,
   "metadata": {},
   "outputs": [],
   "source": []
  }
 ],
 "metadata": {
  "kernelspec": {
   "display_name": "Python 3",
   "language": "python",
   "name": "python3"
  },
  "language_info": {
   "codemirror_mode": {
    "name": "ipython",
    "version": 3
   },
   "file_extension": ".py",
   "mimetype": "text/x-python",
   "name": "python",
   "nbconvert_exporter": "python",
   "pygments_lexer": "ipython3",
   "version": "3.6.5"
  }
 },
 "nbformat": 4,
 "nbformat_minor": 2
}
