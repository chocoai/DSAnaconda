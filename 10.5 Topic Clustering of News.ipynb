{
 "cells": [
  {
   "cell_type": "markdown",
   "metadata": {},
   "source": [
    "## 读取新闻数据"
   ]
  },
  {
   "cell_type": "code",
   "execution_count": 2,
   "metadata": {},
   "outputs": [
    {
     "data": {
      "text/html": [
       "<div>\n",
       "<style scoped>\n",
       "    .dataframe tbody tr th:only-of-type {\n",
       "        vertical-align: middle;\n",
       "    }\n",
       "\n",
       "    .dataframe tbody tr th {\n",
       "        vertical-align: top;\n",
       "    }\n",
       "\n",
       "    .dataframe thead th {\n",
       "        text-align: right;\n",
       "    }\n",
       "</style>\n",
       "<table border=\"1\" class=\"dataframe\">\n",
       "  <thead>\n",
       "    <tr style=\"text-align: right;\">\n",
       "      <th></th>\n",
       "      <th>content</th>\n",
       "      <th>title</th>\n",
       "      <th>url</th>\n",
       "    </tr>\n",
       "  </thead>\n",
       "  <tbody>\n",
       "    <tr>\n",
       "      <th>0</th>\n",
       "      <td>英国《每日电讯报》记者Harry Yorke 称，伦敦桥附近再次传出巨大爆炸声，爆炸强度是半...</td>\n",
       "      <td>伦敦桥附近再传爆炸声</td>\n",
       "      <td>http://news.sina.com.cn/w/zx/2017-06-04/doc-if...</td>\n",
       "    </tr>\n",
       "    <tr>\n",
       "      <th>1</th>\n",
       "      <td>[环球网综合报道]据英国《每日邮报》6月1日报道，近日，美国洛杉矶市比弗利山庄罗迪欧大道诊所...</td>\n",
       "      <td>美诊所1.5万人整形记录被盗</td>\n",
       "      <td>http://news.sina.com.cn/w/zx/2017-06-04/doc-if...</td>\n",
       "    </tr>\n",
       "    <tr>\n",
       "      <th>2</th>\n",
       "      <td>[环球网综合报道]据美国有线电视新闻网4日报道，当地时间3日，英国伦敦相继发生三起袭击事件，...</td>\n",
       "      <td>特朗普“发推”声援伦敦</td>\n",
       "      <td>http://news.sina.com.cn/o/2017-06-04/doc-ifyfu...</td>\n",
       "    </tr>\n",
       "    <tr>\n",
       "      <th>3</th>\n",
       "      <td>原标题：军情锐评 | 文在寅为何成“挺萨德派”？俄军对付美军有一套…… 近日，美国展示拦截洲...</td>\n",
       "      <td>文在寅为何成“挺萨德派”</td>\n",
       "      <td>http://news.sina.com.cn/w/zx/2017-06-04/doc-if...</td>\n",
       "    </tr>\n",
       "    <tr>\n",
       "      <th>4</th>\n",
       "      <td>中新网6月4日电 据外媒报道，在伦敦桥和巴罗市场3日遭恐袭后，有目击者称，在巴罗市场连续传来...</td>\n",
       "      <td>2名疑似袭击者被击毙</td>\n",
       "      <td>http://news.sina.com.cn/o/2017-06-04/doc-ifyfu...</td>\n",
       "    </tr>\n",
       "  </tbody>\n",
       "</table>\n",
       "</div>"
      ],
      "text/plain": [
       "                                             content           title  \\\n",
       "0  英国《每日电讯报》记者Harry Yorke 称，伦敦桥附近再次传出巨大爆炸声，爆炸强度是半...      伦敦桥附近再传爆炸声   \n",
       "1  [环球网综合报道]据英国《每日邮报》6月1日报道，近日，美国洛杉矶市比弗利山庄罗迪欧大道诊所...  美诊所1.5万人整形记录被盗   \n",
       "2  [环球网综合报道]据美国有线电视新闻网4日报道，当地时间3日，英国伦敦相继发生三起袭击事件，...     特朗普“发推”声援伦敦   \n",
       "3  原标题：军情锐评 | 文在寅为何成“挺萨德派”？俄军对付美军有一套…… 近日，美国展示拦截洲...    文在寅为何成“挺萨德派”   \n",
       "4  中新网6月4日电 据外媒报道，在伦敦桥和巴罗市场3日遭恐袭后，有目击者称，在巴罗市场连续传来...      2名疑似袭击者被击毙   \n",
       "\n",
       "                                                 url  \n",
       "0  http://news.sina.com.cn/w/zx/2017-06-04/doc-if...  \n",
       "1  http://news.sina.com.cn/w/zx/2017-06-04/doc-if...  \n",
       "2  http://news.sina.com.cn/o/2017-06-04/doc-ifyfu...  \n",
       "3  http://news.sina.com.cn/w/zx/2017-06-04/doc-if...  \n",
       "4  http://news.sina.com.cn/o/2017-06-04/doc-ifyfu...  "
      ]
     },
     "execution_count": 2,
     "metadata": {},
     "output_type": "execute_result"
    }
   ],
   "source": [
    "import pandas\n",
    "df = pandas.read_excel('Data/news.xlsx')\n",
    "df.head()"
   ]
  },
  {
   "cell_type": "code",
   "execution_count": 3,
   "metadata": {
    "scrolled": true
   },
   "outputs": [
    {
     "name": "stdout",
     "output_type": "stream",
     "text": [
      "Collecting jieba\n",
      "  Using cached https://files.pythonhosted.org/packages/71/46/c6f9179f73b818d5827202ad1c4a94e371a29473b7f043b736b4dab6b8cd/jieba-0.39.zip\n",
      "Building wheels for collected packages: jieba\n",
      "  Running setup.py bdist_wheel for jieba: started\n",
      "  Running setup.py bdist_wheel for jieba: finished with status 'done'\n",
      "  Stored in directory: C:\\Users\\Administrator.HRR13O9FQFSDLIT\\AppData\\Local\\pip\\Cache\\wheels\\c9\\c7\\63\\a9ec0322ccc7c365fd51e475942a82395807186e94f0522243\n",
      "Successfully built jieba\n",
      "Installing collected packages: jieba\n",
      "Successfully installed jieba-0.39\n"
     ]
    }
   ],
   "source": [
    "!pip install jieba"
   ]
  },
  {
   "cell_type": "markdown",
   "metadata": {},
   "source": [
    "## 使用jieba断词"
   ]
  },
  {
   "cell_type": "code",
   "execution_count": 5,
   "metadata": {},
   "outputs": [],
   "source": [
    "import jieba\n",
    "titles = []\n",
    "articles = []\n",
    "for rec in df.iterrows():\n",
    "    articles.append(' '.join(jieba.cut(rec[1].content)))\n",
    "    titles.append(rec[1].title)"
   ]
  },
  {
   "cell_type": "code",
   "execution_count": 8,
   "metadata": {},
   "outputs": [
    {
     "data": {
      "text/plain": [
       "498"
      ]
     },
     "execution_count": 8,
     "metadata": {},
     "output_type": "execute_result"
    }
   ],
   "source": [
    "len(titles)\n",
    "# len(articles)"
   ]
  },
  {
   "cell_type": "code",
   "execution_count": 9,
   "metadata": {},
   "outputs": [
    {
     "data": {
      "text/plain": [
       "'英国 《 每日 电讯报 》 记者 Harry   Yorke   称 ， 伦敦桥 附近 再次 传出 巨大 爆炸声 ， 爆炸 强度 是 半小时 前 传出 的 三起 爆炸声 的 四五倍 。   伦敦 警方 已经 证实 ， 近 45 分钟 内 发生 的 一系列 爆炸 为 “ 受控 爆破 ” （ controlled \\xa0 explosions ） 。 “ 受控 爆破 ” 是 指 引爆 或者 拆除 可疑 爆炸 装置 的 一种 方法 。 （ 央视 记者 \\xa0 张勇 ）   责任编辑 ： 张迪'"
      ]
     },
     "execution_count": 9,
     "metadata": {},
     "output_type": "execute_result"
    }
   ],
   "source": [
    "articles[0]"
   ]
  },
  {
   "cell_type": "markdown",
   "metadata": {},
   "source": [
    "## 建立词频矩阵"
   ]
  },
  {
   "cell_type": "code",
   "execution_count": 14,
   "metadata": {},
   "outputs": [
    {
     "data": {
      "text/plain": [
       "(498, 16528)"
      ]
     },
     "execution_count": 14,
     "metadata": {},
     "output_type": "execute_result"
    }
   ],
   "source": [
    "from sklearn.feature_extraction.text import CountVectorizer\n",
    "vectorizer = CountVectorizer()\n",
    "x = vectorizer.fit_transform(articles)\n",
    "x.shape"
   ]
  },
  {
   "cell_type": "markdown",
   "metadata": {},
   "source": [
    "## 计算余弦距离(Cosine Similarity)"
   ]
  },
  {
   "cell_type": "code",
   "execution_count": 15,
   "metadata": {},
   "outputs": [],
   "source": [
    "from sklearn.metrics.pairwise import  cosine_similarity\n",
    "cosine_similarities = cosine_similarity(x,x)"
   ]
  },
  {
   "cell_type": "code",
   "execution_count": 17,
   "metadata": {},
   "outputs": [
    {
     "data": {
      "text/plain": [
       "array([[1.        , 0.03107505, 0.14547859, ..., 0.05066481, 0.1387863 ,\n",
       "        0.01562691],\n",
       "       [0.03107505, 1.        , 0.13350354, ..., 0.07793338, 0.14340031,\n",
       "        0.02294493],\n",
       "       [0.14547859, 0.13350354, 1.        , ..., 0.19071546, 0.29149942,\n",
       "        0.01790287],\n",
       "       ...,\n",
       "       [0.05066481, 0.07793338, 0.19071546, ..., 1.        , 0.15117901,\n",
       "        0.08550731],\n",
       "       [0.1387863 , 0.14340031, 0.29149942, ..., 0.15117901, 1.        ,\n",
       "        0.03795401],\n",
       "       [0.01562691, 0.02294493, 0.01790287, ..., 0.08550731, 0.03795401,\n",
       "        1.        ]])"
      ]
     },
     "execution_count": 17,
     "metadata": {},
     "output_type": "execute_result"
    }
   ],
   "source": [
    "cosine_similarities.shape\n",
    "cosine_similarities"
   ]
  },
  {
   "cell_type": "markdown",
   "metadata": {},
   "source": [
    "## 使用KMeans分群"
   ]
  },
  {
   "cell_type": "code",
   "execution_count": 20,
   "metadata": {},
   "outputs": [],
   "source": [
    "from sklearn.cluster import KMeans\n",
    "c = KMeans(n_clusters = 10, init = 'k-means++' , random_state = 123)\n",
    "k_data = c.fit_predict(cosine_similarities)"
   ]
  },
  {
   "cell_type": "markdown",
   "metadata": {},
   "source": [
    "## 产生分群结果"
   ]
  },
  {
   "cell_type": "code",
   "execution_count": 22,
   "metadata": {},
   "outputs": [],
   "source": [
    "# k_data == 8"
   ]
  },
  {
   "cell_type": "code",
   "execution_count": 26,
   "metadata": {},
   "outputs": [
    {
     "data": {
      "text/plain": [
       "array(['日驻釜山总领事被撤职', '文在寅支持率创韩国总统之最', '韩政府将发布抗雾霾指南', '日驻釜山总领事批安倍被撤',\n",
       "       '韩流歌手献唱亚投行韩国年会', '韩战斗机遇故障紧急迫降日本', '韩参加美主导空军联合军演', '韩8座老旧火力发电站停运1月',\n",
       "       '韩民调:除朝鲜外中国威胁最大', '易买得亏损严重退出中国市场', '韩媒:李洛渊正式就任韩总理',\n",
       "       '朝鲜称随时准备试射洲际导弹', '芒果台又被韩媒点名批\"抄袭\"', '韩新总理就职:尽快补施政空白',\n",
       "       '韩调整对朝政策基调与美协调', '李洛渊当选韩第45届国务总理', '韩东盟自由贸易协定生效十年',\n",
       "       '韩国正式废除国定历史教科书', '韩外长提名人听证6月7日举行', '韩国送返6名朝鲜船员', '韩国：已送返6名获救朝鲜船员',\n",
       "       '文在寅迎外交首秀', '前日驻韩大使:文在寅最差总统', '联合国拒为日慰安妇立场站台', '安倍拒绝重启朝核对话',\n",
       "       '黑历史难阻李洛渊总理之路', '韩拟通过总理提名人听证报告', '文在寅提名行政文化等4部长官', '文在寅对朝风向生变',\n",
       "       '日本原驻韩大使出书“黑”韩', '韩举行新政府首场临时国会', '文在寅宠物猫入住青瓦台', '朝鲜今晨试射不明飞行物',\n",
       "       '朴槿惠力阻韩国人看这部电影', '韩籍渔船索马里被劫', '文在寅组阁拟打破惯例', '文在寅与亲密朋友保持距离',\n",
       "       '文在寅执政后青瓦台五大变化', '韩总理提名人听证报告难产', '朝鲜称韩国侦察机侵犯其领空', '韩特使:文在寅支持六方会谈',\n",
       "       '韩政府高官任命被指违反原则', '韩媒:韩旅游业盼中方解除限制'], dtype='<U16')"
      ]
     },
     "execution_count": 26,
     "metadata": {},
     "output_type": "execute_result"
    }
   ],
   "source": [
    "import numpy\n",
    "titles_arry = numpy.array(titles)\n",
    "titles_arry[k_data ==8]"
   ]
  },
  {
   "cell_type": "code",
   "execution_count": null,
   "metadata": {},
   "outputs": [],
   "source": []
  }
 ],
 "metadata": {
  "kernelspec": {
   "display_name": "Python 3",
   "language": "python",
   "name": "python3"
  },
  "language_info": {
   "codemirror_mode": {
    "name": "ipython",
    "version": 3
   },
   "file_extension": ".py",
   "mimetype": "text/x-python",
   "name": "python",
   "nbconvert_exporter": "python",
   "pygments_lexer": "ipython3",
   "version": "3.6.5"
  }
 },
 "nbformat": 4,
 "nbformat_minor": 2
}
