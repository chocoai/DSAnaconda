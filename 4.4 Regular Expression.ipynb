{
 "cells": [
  {
   "cell_type": "markdown",
   "metadata": {},
   "source": [
    "## 正则表达式"
   ]
  },
  {
   "cell_type": "code",
   "execution_count": 3,
   "metadata": {},
   "outputs": [
    {
     "data": {
      "text/plain": [
       "<_sre.SRE_Match object; span=(0, 1), match='1'>"
      ]
     },
     "execution_count": 3,
     "metadata": {},
     "output_type": "execute_result"
    }
   ],
   "source": [
    "import re\n",
    "a = '1'\n",
    "# re.search('1',a)\n",
    "# []代表或的意思\n",
    "re.search('[\\d]',a) #[0-9] = [0123456789]"
   ]
  },
  {
   "cell_type": "code",
   "execution_count": 6,
   "metadata": {},
   "outputs": [
    {
     "data": {
      "text/plain": [
       "<_sre.SRE_Match object; span=(0, 1), match='a'>"
      ]
     },
     "execution_count": 6,
     "metadata": {},
     "output_type": "execute_result"
    }
   ],
   "source": [
    "a = 'a'\n",
    "# re.search('[a-z]',a)\n",
    "# re.search('[a-zA-Z]',b)\n",
    "re.search('\\w',a) #a-zA-Z0-9"
   ]
  },
  {
   "cell_type": "code",
   "execution_count": 13,
   "metadata": {},
   "outputs": [
    {
     "data": {
      "text/plain": [
       "<_sre.SRE_Match object; span=(0, 3), match='abc'>"
      ]
     },
     "execution_count": 13,
     "metadata": {},
     "output_type": "execute_result"
    }
   ],
   "source": [
    "a = 'abc'\n",
    "# re.search('(\\w)',a)\n",
    "# re.search('\\w{3}',a)\n",
    "# re.search('\\w{1,3}',a)\n",
    "# re.search('\\w+',a)匹配一个或多个字符串\n",
    "# re.search('\\w*',a)匹配0个或多个字符串\n"
   ]
  },
  {
   "cell_type": "code",
   "execution_count": 19,
   "metadata": {},
   "outputs": [
    {
     "data": {
      "text/plain": [
       "<_sre.SRE_Match object; span=(12, 25), match='134-1234-1234'>"
      ]
     },
     "execution_count": 19,
     "metadata": {},
     "output_type": "execute_result"
    }
   ],
   "source": [
    "a = 'my phone is 134-1234-1234'\n",
    "re.search('\\d{3}-\\d{4}-\\d{4}',a)\n",
    "b = 'my phone is 13412341234'\n",
    "re.search('\\d{3}\\d{4}\\d{4}',b)\n",
    "re.search('\\d{3}-{0,1}\\d{4}-{0,1}\\d{4}',a)\n",
    "re.search('\\d{3}-{0,1}\\d{4}-{0,1}\\d{4}',b)\n",
    "re.search('\\d{3}-?\\d{4}-?\\d{4}',a)"
   ]
  },
  {
   "cell_type": "code",
   "execution_count": 23,
   "metadata": {},
   "outputs": [
    {
     "data": {
      "text/plain": [
       "('david', 'largitdata')"
      ]
     },
     "execution_count": 23,
     "metadata": {},
     "output_type": "execute_result"
    }
   ],
   "source": [
    "import re\n",
    "# search是对部分字段的比对，如果是全字串的话使用的是match\n",
    "email = 'david@largitdata.com'\n",
    "re.match('\\w+@\\w+',email)\n",
    "m = re.match('(\\w+)@(\\w+)',email)\n",
    "m.group(1)\n",
    "m.groups()"
   ]
  },
  {
   "cell_type": "code",
   "execution_count": 27,
   "metadata": {},
   "outputs": [
    {
     "data": {
      "text/plain": [
       "('david', 'largitdata.com')"
      ]
     },
     "execution_count": 27,
     "metadata": {},
     "output_type": "execute_result"
    }
   ],
   "source": [
    "email = 'david@largitdata.com'\n",
    "m = re.match('(\\w+)@([a-z\\.]+)',email)\n",
    "m.groups()\n",
    "\n",
    "m = re.match('(\\w+)@(.+)',email)\n",
    "m.groups()"
   ]
  },
  {
   "cell_type": "code",
   "execution_count": 30,
   "metadata": {},
   "outputs": [
    {
     "data": {
      "text/plain": [
       "('1995', '5')"
      ]
     },
     "execution_count": 30,
     "metadata": {},
     "output_type": "execute_result"
    }
   ],
   "source": [
    "digt = '1995.5'\n",
    "m = re.match('(\\d+)\\.(\\d+)',digt)\n",
    "m.groups()"
   ]
  },
  {
   "cell_type": "code",
   "execution_count": 37,
   "metadata": {},
   "outputs": [
    {
     "data": {
      "text/plain": [
       "'jacob'"
      ]
     },
     "execution_count": 37,
     "metadata": {},
     "output_type": "execute_result"
    }
   ],
   "source": [
    "name = \"jacob zjj\"\n",
    "m = re.match('(?P<first_name>\\w+) (?P<last_name>\\w+)',name)\n",
    "m.group('first_name')"
   ]
  },
  {
   "cell_type": "code",
   "execution_count": null,
   "metadata": {},
   "outputs": [],
   "source": []
  },
  {
   "cell_type": "code",
   "execution_count": null,
   "metadata": {},
   "outputs": [],
   "source": []
  }
 ],
 "metadata": {
  "kernelspec": {
   "display_name": "Python 3",
   "language": "python",
   "name": "python3"
  },
  "language_info": {
   "codemirror_mode": {
    "name": "ipython",
    "version": 3
   },
   "file_extension": ".py",
   "mimetype": "text/x-python",
   "name": "python",
   "nbconvert_exporter": "python",
   "pygments_lexer": "ipython3",
   "version": "3.6.5"
  }
 },
 "nbformat": 4,
 "nbformat_minor": 2
}
