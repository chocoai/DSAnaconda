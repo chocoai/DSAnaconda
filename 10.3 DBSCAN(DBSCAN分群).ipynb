{
 "cells": [
  {
   "cell_type": "code",
   "execution_count": 8,
   "metadata": {},
   "outputs": [],
   "source": [
    "import numpy as np\n",
    "from PIL import Image\n",
    "img = Image.open('data/handwriting.png')\n",
    "# img\n",
    "img2 = img.rotate(-90).convert(\"L\")\n",
    "imgarr = np.array(img2)"
   ]
  },
  {
   "cell_type": "code",
   "execution_count": 9,
   "metadata": {},
   "outputs": [],
   "source": [
    "from sklearn.preprocessing import binarize\n",
    "# binarize(imgarr,0)\n",
    "imagedata = np.where(1 - binarize(imgarr,0) == 1)"
   ]
  },
  {
   "cell_type": "code",
   "execution_count": 10,
   "metadata": {},
   "outputs": [
    {
     "data": {
      "image/png": "[encoded data removed]",
      "text/plain": [
       "<Figure size 432x288 with 1 Axes>"
      ]
     },
     "metadata": {},
     "output_type": "display_data"
    }
   ],
   "source": [
    "import matplotlib.pyplot as plt\n",
    "plt.scatter(imagedata[0],imagedata[1],s = 100,c = 'red',label = 'Cluster 1')\n",
    "plt.show()"
   ]
  },
  {
   "cell_type": "code",
   "execution_count": 12,
   "metadata": {},
   "outputs": [],
   "source": [
    "# imagedata"
   ]
  },
  {
   "cell_type": "code",
   "execution_count": 13,
   "metadata": {},
   "outputs": [
    {
     "data": {
      "text/plain": [
       "array([[ 3,  4],\n",
       "       [ 3,  5],\n",
       "       [ 3,  6],\n",
       "       [ 3,  7],\n",
       "       [ 4,  4],\n",
       "       [ 4,  5],\n",
       "       [ 4,  6],\n",
       "       [ 4,  7],\n",
       "       [ 4,  8],\n",
       "       [ 4,  9],\n",
       "       [ 4, 10],\n",
       "       [ 4, 11],\n",
       "       [ 4, 12],\n",
       "       [ 4, 13],\n",
       "       [ 4, 14],\n",
       "       [ 4, 15],\n",
       "       [ 4, 16],\n",
       "       [ 5,  4],\n",
       "       [ 5,  5],\n",
       "       [ 5,  6],\n",
       "       [ 5,  7],\n",
       "       [ 5,  8],\n",
       "       [ 5,  9],\n",
       "       [ 5, 10],\n",
       "       [ 5, 11],\n",
       "       [ 5, 12],\n",
       "       [ 5, 13],\n",
       "       [ 5, 14],\n",
       "       [ 5, 15],\n",
       "       [ 5, 16],\n",
       "       [ 5, 17],\n",
       "       [ 5, 18],\n",
       "       [ 5, 19],\n",
       "       [ 5, 20],\n",
       "       [ 5, 21],\n",
       "       [ 5, 22],\n",
       "       [ 5, 23],\n",
       "       [ 6,  5],\n",
       "       [ 6,  6],\n",
       "       [ 6,  7],\n",
       "       [ 6,  8],\n",
       "       [ 6,  9],\n",
       "       [ 6, 10],\n",
       "       [ 6, 11],\n",
       "       [ 6, 12],\n",
       "       [ 6, 13],\n",
       "       [ 6, 14],\n",
       "       [ 6, 15],\n",
       "       [ 6, 16],\n",
       "       [ 6, 17],\n",
       "       [ 6, 18],\n",
       "       [ 6, 19],\n",
       "       [ 6, 20],\n",
       "       [ 6, 21],\n",
       "       [ 6, 22],\n",
       "       [ 6, 23],\n",
       "       [ 7, 14],\n",
       "       [ 7, 15],\n",
       "       [ 7, 16],\n",
       "       [ 7, 17],\n",
       "       [ 7, 18],\n",
       "       [ 7, 19],\n",
       "       [ 7, 20],\n",
       "       [ 7, 21],\n",
       "       [ 7, 22],\n",
       "       [ 7, 23],\n",
       "       [10, 16],\n",
       "       [10, 17],\n",
       "       [10, 18],\n",
       "       [10, 19],\n",
       "       [10, 20],\n",
       "       [10, 21],\n",
       "       [10, 22],\n",
       "       [10, 23],\n",
       "       [11,  3],\n",
       "       [11,  4],\n",
       "       [11,  5],\n",
       "       [11,  6],\n",
       "       [11,  7],\n",
       "       [11, 15],\n",
       "       [11, 16],\n",
       "       [11, 17],\n",
       "       [11, 18],\n",
       "       [11, 19],\n",
       "       [11, 20],\n",
       "       [11, 21],\n",
       "       [11, 22],\n",
       "       [11, 23],\n",
       "       [11, 24],\n",
       "       [12,  1],\n",
       "       [12,  2],\n",
       "       [12,  3],\n",
       "       [12,  4],\n",
       "       [12,  5],\n",
       "       [12,  6],\n",
       "       [12,  7],\n",
       "       [12,  8],\n",
       "       [12, 14],\n",
       "       [12, 15],\n",
       "       [12, 16],\n",
       "       [12, 17],\n",
       "       [12, 18],\n",
       "       [12, 19],\n",
       "       [12, 20],\n",
       "       [12, 21],\n",
       "       [12, 22],\n",
       "       [12, 23],\n",
       "       [12, 24],\n",
       "       [13,  1],\n",
       "       [13,  2],\n",
       "       [13,  3],\n",
       "       [13,  4],\n",
       "       [13,  5],\n",
       "       [13,  6],\n",
       "       [13,  7],\n",
       "       [13,  8],\n",
       "       [13,  9],\n",
       "       [13, 10],\n",
       "       [13, 13],\n",
       "       [13, 14],\n",
       "       [13, 15],\n",
       "       [13, 16],\n",
       "       [13, 17],\n",
       "       [13, 18],\n",
       "       [13, 21],\n",
       "       [13, 22],\n",
       "       [13, 23],\n",
       "       [13, 24],\n",
       "       [14,  1],\n",
       "       [14,  2],\n",
       "       [14,  3],\n",
       "       [14,  4],\n",
       "       [14,  5],\n",
       "       [14,  6],\n",
       "       [14,  7],\n",
       "       [14,  8],\n",
       "       [14,  9],\n",
       "       [14, 10],\n",
       "       [14, 11],\n",
       "       [14, 12],\n",
       "       [14, 13],\n",
       "       [14, 14],\n",
       "       [14, 15],\n",
       "       [14, 16],\n",
       "       [14, 17],\n",
       "       [14, 21],\n",
       "       [14, 22],\n",
       "       [14, 23],\n",
       "       [14, 24],\n",
       "       [15,  1],\n",
       "       [15,  2],\n",
       "       [15,  3],\n",
       "       [15,  6],\n",
       "       [15,  7],\n",
       "       [15,  8],\n",
       "       [15,  9],\n",
       "       [15, 10],\n",
       "       [15, 11],\n",
       "       [15, 12],\n",
       "       [15, 13],\n",
       "       [15, 14],\n",
       "       [15, 15],\n",
       "       [15, 16],\n",
       "       [15, 21],\n",
       "       [15, 22],\n",
       "       [15, 23],\n",
       "       [15, 24],\n",
       "       [16,  1],\n",
       "       [16,  2],\n",
       "       [16,  3],\n",
       "       [16,  8],\n",
       "       [16,  9],\n",
       "       [16, 10],\n",
       "       [16, 11],\n",
       "       [16, 12],\n",
       "       [16, 13],\n",
       "       [16, 14],\n",
       "       [16, 15],\n",
       "       [16, 21],\n",
       "       [16, 22],\n",
       "       [16, 23],\n",
       "       [16, 24],\n",
       "       [17,  1],\n",
       "       [17,  2],\n",
       "       [17,  3],\n",
       "       [17,  9],\n",
       "       [17, 10],\n",
       "       [17, 11],\n",
       "       [17, 12],\n",
       "       [17, 13],\n",
       "       [17, 14],\n",
       "       [17, 20],\n",
       "       [17, 21],\n",
       "       [17, 22],\n",
       "       [17, 23],\n",
       "       [18,  1],\n",
       "       [18,  2],\n",
       "       [18,  3],\n",
       "       [18,  8],\n",
       "       [18,  9],\n",
       "       [18, 10],\n",
       "       [18, 11],\n",
       "       [18, 12],\n",
       "       [18, 13],\n",
       "       [18, 14],\n",
       "       [18, 19],\n",
       "       [18, 20],\n",
       "       [18, 21],\n",
       "       [18, 22],\n",
       "       [18, 23],\n",
       "       [19,  1],\n",
       "       [19,  2],\n",
       "       [19,  3],\n",
       "       [19,  4],\n",
       "       [19,  6],\n",
       "       [19,  7],\n",
       "       [19,  8],\n",
       "       [19,  9],\n",
       "       [19, 10],\n",
       "       [19, 11],\n",
       "       [19, 12],\n",
       "       [19, 13],\n",
       "       [19, 14],\n",
       "       [19, 15],\n",
       "       [19, 18],\n",
       "       [19, 19],\n",
       "       [19, 20],\n",
       "       [19, 21],\n",
       "       [19, 22],\n",
       "       [19, 23],\n",
       "       [20,  1],\n",
       "       [20,  2],\n",
       "       [20,  3],\n",
       "       [20,  4],\n",
       "       [20,  5],\n",
       "       [20,  6],\n",
       "       [20,  7],\n",
       "       [20,  8],\n",
       "       [20,  9],\n",
       "       [20, 10],\n",
       "       [20, 11],\n",
       "       [20, 12],\n",
       "       [20, 13],\n",
       "       [20, 14],\n",
       "       [20, 15],\n",
       "       [20, 16],\n",
       "       [20, 17],\n",
       "       [20, 18],\n",
       "       [20, 19],\n",
       "       [20, 20],\n",
       "       [20, 21],\n",
       "       [20, 22],\n",
       "       [21,  1],\n",
       "       [21,  2],\n",
       "       [21,  3],\n",
       "       [21,  4],\n",
       "       [21,  5],\n",
       "       [21,  6],\n",
       "       [21,  7],\n",
       "       [21,  8],\n",
       "       [21,  9],\n",
       "       [21, 10],\n",
       "       [21, 12],\n",
       "       [21, 13],\n",
       "       [21, 14],\n",
       "       [21, 15],\n",
       "       [21, 16],\n",
       "       [21, 17],\n",
       "       [21, 18],\n",
       "       [21, 19],\n",
       "       [21, 20],\n",
       "       [21, 21],\n",
       "       [22,  2],\n",
       "       [22,  3],\n",
       "       [22,  4],\n",
       "       [22,  5],\n",
       "       [22,  6],\n",
       "       [22,  7],\n",
       "       [22,  8],\n",
       "       [22, 13],\n",
       "       [22, 14],\n",
       "       [22, 15],\n",
       "       [22, 16],\n",
       "       [22, 17],\n",
       "       [22, 18],\n",
       "       [22, 19],\n",
       "       [22, 20]], dtype=int64)"
      ]
     },
     "execution_count": 13,
     "metadata": {},
     "output_type": "execute_result"
    }
   ],
   "source": [
    "x  = np.column_stack([imagedata[0],imagedata[1]])\n",
    "x"
   ]
  },
  {
   "cell_type": "code",
   "execution_count": 14,
   "metadata": {},
   "outputs": [],
   "source": [
    "from sklearn.cluster import KMeans\n",
    "kmeans = KMeans(n_clusters = 2,init = 'k-means++',random_state = 42)\n",
    "y_kmeans = kmeans.fit_predict(x)"
   ]
  },
  {
   "cell_type": "code",
   "execution_count": 15,
   "metadata": {},
   "outputs": [
    {
     "data": {
      "text/plain": [
       "array([0, 0, 0, 0, 0, 0, 0, 0, 0, 0, 0, 0, 1, 1, 1, 1, 1, 0, 0, 0, 0, 0,\n",
       "       0, 0, 0, 1, 1, 1, 1, 1, 1, 1, 1, 1, 1, 1, 1, 0, 0, 0, 0, 0, 0, 0,\n",
       "       1, 1, 1, 1, 1, 1, 1, 1, 1, 1, 1, 1, 1, 1, 1, 1, 1, 1, 1, 1, 1, 1,\n",
       "       1, 1, 1, 1, 1, 1, 1, 1, 0, 0, 0, 0, 0, 1, 1, 1, 1, 1, 1, 1, 1, 1,\n",
       "       1, 0, 0, 0, 0, 0, 0, 0, 0, 1, 1, 1, 1, 1, 1, 1, 1, 1, 1, 1, 0, 0,\n",
       "       0, 0, 0, 0, 0, 0, 0, 0, 1, 1, 1, 1, 1, 1, 1, 1, 1, 1, 0, 0, 0, 0,\n",
       "       0, 0, 0, 0, 0, 0, 0, 0, 1, 1, 1, 1, 1, 1, 1, 1, 1, 0, 0, 0, 0, 0,\n",
       "       0, 0, 0, 0, 0, 1, 1, 1, 1, 1, 1, 1, 1, 0, 0, 0, 0, 0, 0, 0, 0, 1,\n",
       "       1, 1, 1, 1, 1, 1, 0, 0, 0, 0, 0, 0, 0, 1, 1, 1, 1, 1, 1, 0, 0, 0,\n",
       "       0, 0, 0, 0, 0, 0, 1, 1, 1, 1, 1, 1, 0, 0, 0, 0, 0, 0, 0, 0, 0, 0,\n",
       "       0, 0, 1, 1, 1, 1, 1, 1, 1, 1, 0, 0, 0, 0, 0, 0, 0, 0, 0, 0, 0, 0,\n",
       "       0, 1, 1, 1, 1, 1, 1, 1, 1, 1, 0, 0, 0, 0, 0, 0, 0, 0, 0, 0, 0, 0,\n",
       "       1, 1, 1, 1, 1, 1, 1, 1, 0, 0, 0, 0, 0, 0, 0, 0, 1, 1, 1, 1, 1, 1,\n",
       "       1])"
      ]
     },
     "execution_count": 15,
     "metadata": {},
     "output_type": "execute_result"
    }
   ],
   "source": [
    "y_kmeans"
   ]
  },
  {
   "cell_type": "code",
   "execution_count": 18,
   "metadata": {},
   "outputs": [
    {
     "data": {
      "text/plain": [
       "array([[14.53900709,  6.65957447],\n",
       "       [12.98630137, 18.2739726 ]])"
      ]
     },
     "execution_count": 18,
     "metadata": {},
     "output_type": "execute_result"
    }
   ],
   "source": [
    "kmeans.cluster_centers_"
   ]
  },
  {
   "cell_type": "code",
   "execution_count": 19,
   "metadata": {},
   "outputs": [
    {
     "data": {
      "text/plain": [
       "<matplotlib.collections.PathCollection at 0xaa54c50>"
      ]
     },
     "execution_count": 19,
     "metadata": {},
     "output_type": "execute_result"
    },
    {
     "data": {
      "image/png": "[encoded data removed]",
      "text/plain": [
       "<Figure size 432x288 with 1 Axes>"
      ]
     },
     "metadata": {},
     "output_type": "display_data"
    }
   ],
   "source": [
    "plt.scatter(x[y_kmeans == 0,0],x[y_kmeans == 0,1],s = 100,c = 'red',label = 'Cluster 1')\n",
    "plt.scatter(x[y_kmeans == 1,0],x[y_kmeans == 1,1],s = 100,c = 'blue',label = 'Cluster 2')\n",
    "plt.scatter(kmeans.cluster_centers_[:,0],kmeans.cluster_centers_[:,1],s = 100,c = 'yellow',label = 'Centroid')"
   ]
  },
  {
   "cell_type": "code",
   "execution_count": 21,
   "metadata": {},
   "outputs": [],
   "source": [
    "from sklearn.cluster import DBSCAN\n",
    "dbs = DBSCAN(eps = 1,min_samples = 3)\n",
    "y_dbs = dbs.fit_predict(x)"
   ]
  },
  {
   "cell_type": "code",
   "execution_count": 24,
   "metadata": {},
   "outputs": [
    {
     "data": {
      "image/png": "[encoded data removed]",
      "text/plain": [
       "<Figure size 432x288 with 1 Axes>"
      ]
     },
     "metadata": {},
     "output_type": "display_data"
    }
   ],
   "source": [
    "plt.scatter(x[y_dbs == 0,0],x[y_dbs == 0,1],s = 100,c = 'red',label = 'Cluster 1')\n",
    "plt.scatter(x[y_dbs == 1,0],x[y_dbs == 1,1],s = 100,c = 'blue',label = 'Cluster 2')\n",
    "plt.show()"
   ]
  },
  {
   "cell_type": "markdown",
   "metadata": {},
   "source": []
  }
 ],
 "metadata": {
  "kernelspec": {
   "display_name": "Python 3",
   "language": "python",
   "name": "python3"
  },
  "language_info": {
   "codemirror_mode": {
    "name": "ipython",
    "version": 3
   },
   "file_extension": ".py",
   "mimetype": "text/x-python",
   "name": "python",
   "nbconvert_exporter": "python",
   "pygments_lexer": "ipython3",
   "version": "3.6.5"
  }
 },
 "nbformat": 4,
 "nbformat_minor": 2
}
