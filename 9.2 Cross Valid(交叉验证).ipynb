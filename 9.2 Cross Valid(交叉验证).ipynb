{
 "cells": [
  {
   "cell_type": "code",
   "execution_count": 1,
   "metadata": {},
   "outputs": [],
   "source": [
    "from sklearn.datasets import load_iris\n",
    "from sklearn.tree import  DecisionTreeClassifier\n",
    "iris = load_iris()\n",
    "x = iris.data\n",
    "y = iris.target"
   ]
  },
  {
   "cell_type": "code",
   "execution_count": 3,
   "metadata": {},
   "outputs": [
    {
     "data": {
      "text/plain": [
       "DecisionTreeClassifier(class_weight=None, criterion='gini', max_depth=None,\n",
       "            max_features=None, max_leaf_nodes=None,\n",
       "            min_impurity_decrease=0.0, min_impurity_split=None,\n",
       "            min_samples_leaf=1, min_samples_split=2,\n",
       "            min_weight_fraction_leaf=0.0, presort=False, random_state=None,\n",
       "            splitter='best')"
      ]
     },
     "execution_count": 3,
     "metadata": {},
     "output_type": "execute_result"
    }
   ],
   "source": [
    "from sklearn.model_selection import train_test_split\n",
    "train_x,test_x,train_y,test_y = train_test_split(x,y,test_size=0.33,random_state=123)\n",
    "clf = DecisionTreeClassifier()\n",
    "clf.fit(train_x,train_y)"
   ]
  },
  {
   "cell_type": "code",
   "execution_count": 7,
   "metadata": {},
   "outputs": [
    {
     "data": {
      "text/plain": [
       "(50,)"
      ]
     },
     "execution_count": 7,
     "metadata": {},
     "output_type": "execute_result"
    }
   ],
   "source": [
    "# train_x.shape\n",
    "# train_y.shape\n",
    "# test_x.shape\n",
    "# test_y.shape"
   ]
  },
  {
   "cell_type": "code",
   "execution_count": 10,
   "metadata": {},
   "outputs": [
    {
     "name": "stdout",
     "output_type": "stream",
     "text": [
      "0.96\n",
      "1.0\n",
      "[[20  0  0]\n",
      " [ 0 11  0]\n",
      " [ 0  2 17]]\n"
     ]
    }
   ],
   "source": [
    "from sklearn.metrics import accuracy_score\n",
    "predicted = clf.predict(test_x)\n",
    "print(accuracy_score(test_y,predicted))\n",
    "\n",
    "predicted2 = clf.predict(train_x)\n",
    "print(accuracy_score(train_y,predicted2))\n",
    "\n",
    "from sklearn.metrics import confusion_matrix\n",
    "m = confusion_matrix(test_y,predicted)\n",
    "print(m)"
   ]
  },
  {
   "cell_type": "markdown",
   "metadata": {},
   "source": [
    "## 交叉验证"
   ]
  },
  {
   "cell_type": "code",
   "execution_count": 17,
   "metadata": {},
   "outputs": [
    {
     "data": {
      "text/plain": [
       "0.9466666666666667"
      ]
     },
     "execution_count": 17,
     "metadata": {},
     "output_type": "execute_result"
    }
   ],
   "source": [
    "from sklearn.model_selection import  KFold\n",
    "acc  = []\n",
    "kf = KFold(n_splits = 10)\n",
    "for train,test in kf.split(x):\n",
    "    train_x,test_x,train_y,test_y = x[train],x[test],y[train],y[test]\n",
    "    clf = DecisionTreeClassifier()\n",
    "    clf.fit(train_x,train_y)\n",
    "    predicted =clf.predict(test_x)\n",
    "#     print(accuracy_score(test_y,predicted))\n",
    "    acc.append(accuracy_score(test_y,predicted))\n",
    "#获得平均得分\n",
    "sum(acc)/len(acc)"
   ]
  },
  {
   "cell_type": "code",
   "execution_count": 21,
   "metadata": {},
   "outputs": [
    {
     "data": {
      "text/plain": [
       "0.04842963241630837"
      ]
     },
     "execution_count": 21,
     "metadata": {},
     "output_type": "execute_result"
    }
   ],
   "source": [
    "from sklearn.model_selection import cross_val_score\n",
    "acc = cross_val_score(clf,X = train_x,y = train_y,cv = 10)\n",
    "acc.mean()\n",
    "acc.std()"
   ]
  },
  {
   "cell_type": "markdown",
   "metadata": {},
   "source": [
    "## 留一验证"
   ]
  },
  {
   "cell_type": "code",
   "execution_count": 29,
   "metadata": {},
   "outputs": [
    {
     "data": {
      "text/plain": [
       "0.9533333333333334"
      ]
     },
     "execution_count": 29,
     "metadata": {},
     "output_type": "execute_result"
    }
   ],
   "source": [
    "from sklearn.model_selection import LeaveOneOut\n",
    "res = []\n",
    "loo = LeaveOneOut()\n",
    "for train,test in loo.split(x):\n",
    "    train_x,test_x,train_y,test_y = x[train],x[test],y[train],y[test]\n",
    "    clf = DecisionTreeClassifier()\n",
    "    clf.fit(train_x,train_y)\n",
    "    predicted = clf.predict(test_x)\n",
    "    res.extend((predicted == test_y).tolist())\n",
    "sum(res)/150"
   ]
  },
  {
   "cell_type": "code",
   "execution_count": null,
   "metadata": {},
   "outputs": [],
   "source": []
  }
 ],
 "metadata": {
  "kernelspec": {
   "display_name": "Python 3",
   "language": "python",
   "name": "python3"
  },
  "language_info": {
   "codemirror_mode": {
    "name": "ipython",
    "version": 3
   },
   "file_extension": ".py",
   "mimetype": "text/x-python",
   "name": "python",
   "nbconvert_exporter": "python",
   "pygments_lexer": "ipython3",
   "version": "3.6.5"
  }
 },
 "nbformat": 4,
 "nbformat_minor": 2
}
